{
 "cells": [
  {
   "cell_type": "markdown",
   "metadata": {},
   "source": [
    "# Load Iris Dataset"
   ]
  },
  {
   "cell_type": "code",
   "execution_count": 7,
   "metadata": {},
   "outputs": [
    {
     "name": "stdout",
     "output_type": "stream",
     "text": [
      "Scores: [0.975 0.9   0.95 ]\n",
      "Means: 0.9416666666666668\n",
      "Standard Deviation: 0.03118047822311616\n"
     ]
    },
    {
     "data": {
      "text/plain": [
       "['rf_clf.joblib']"
      ]
     },
     "execution_count": 7,
     "metadata": {},
     "output_type": "execute_result"
    }
   ],
   "source": [
    "from sklearn.ensemble import RandomForestClassifier\n",
    "from sklearn.model_selection import train_test_split\n",
    "from sklearn.model_selection import cross_val_score\n",
    "import joblib\n",
    "from sklearn.datasets import load_iris\n",
    "\n",
    "iris = load_iris()\n",
    "X = iris.data\n",
    "y = iris.target\n",
    "\n",
    "def display_scores(scores):\n",
    "    print(\"Scores:\", scores)\n",
    "    print(\"Means:\", scores.mean())\n",
    "    print(\"Standard Deviation:\", scores.std())\n",
    "\n",
    "X_train, X_test, y_train, y_test = train_test_split(\n",
    "    X, y, test_size=0.2, random_state=42\n",
    ")\n",
    "\n",
    "rf_clf = RandomForestClassifier()\n",
    "rf_clf.fit(X_train, y_train)\n",
    "rf_scores = cross_val_score(rf_clf, X_train, y_train, scoring = 'accuracy', cv = 3)\n",
    "display_scores(rf_scores)\n",
    "joblib.dump(rf_clf, 'rf_clf.joblib')"
   ]
  },
  {
   "cell_type": "code",
   "execution_count": 66,
   "metadata": {},
   "outputs": [
    {
     "name": "stdout",
     "output_type": "stream",
     "text": [
      "Overwriting flask_api.py\n"
     ]
    }
   ],
   "source": [
    "%%writefile flask_api.py\n",
    "\n",
    "import joblib\n",
    "import numpy as np\n",
    "from flask import Flask, request\n",
    "from flask import Response\n",
    "import json\n",
    "\n",
    "# model = None\n",
    "app = Flask(__name__)\n",
    "\n",
    "@app.route('/predict')\n",
    "def predict_endpoint():\n",
    "    test_data = request.get_json()\n",
    "    test_data = np.array(test_data)\n",
    "    predictions = model.predict(test_data)\n",
    "    response = json.dumps(predictions.tolist())\n",
    "    return Response(response, status=200, mimetype=\"application/json\")\n",
    "\n",
    "if __name__ == '__main__':\n",
    "    model = joblib.load('rf_clf.joblib')\n",
    "    app.run(host='0.0.0.0', port=80)"
   ]
  },
  {
   "cell_type": "code",
   "execution_count": 74,
   "metadata": {},
   "outputs": [
    {
     "name": "stdout",
     "output_type": "stream",
     "text": [
      "Accuracy Score: 1.0\n"
     ]
    }
   ],
   "source": [
    "from sklearn.metrics import accuracy_score\n",
    "import requests\n",
    "import json\n",
    "\n",
    "url = 'http://localhost/predict'\n",
    "headers = {\n",
    "    'Content-type': \"application/json\"\n",
    "}\n",
    "\n",
    "data = json.dumps(X_test.tolist())\n",
    "response = requests.get(url, headers=headers, data=data)\n",
    "predictions = np.array(json.loads(response.text))\n",
    "\n",
    "print(f'Accuracy Score: {accuracy_score(predictions, y_test)}')"
   ]
  }
 ],
 "metadata": {
  "interpreter": {
   "hash": "a6f329c160d79c67bab7e4c042d9b94fd8e93b879e5c15332facc5aa0bd7b9cc"
  },
  "kernelspec": {
   "display_name": "Python 3.9.7 64-bit ('data-module3-rewrite-MHxOfhnE-py3.9': poetry)",
   "language": "python",
   "name": "python3"
  },
  "language_info": {
   "codemirror_mode": {
    "name": "ipython",
    "version": 3
   },
   "file_extension": ".py",
   "mimetype": "text/x-python",
   "name": "python",
   "nbconvert_exporter": "python",
   "pygments_lexer": "ipython3",
   "version": "3.9.7"
  },
  "orig_nbformat": 4
 },
 "nbformat": 4,
 "nbformat_minor": 2
}
